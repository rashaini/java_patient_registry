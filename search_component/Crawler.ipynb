{
 "cells": [
  {
   "cell_type": "code",
   "execution_count": 17,
   "metadata": {
    "collapsed": false
   },
   "outputs": [
    {
     "ename": "TypeError",
     "evalue": "'NoneType' object is not callable",
     "output_type": "error",
     "traceback": [
      "\u001b[0;31m---------------------------------------------------------------------------\u001b[0m",
      "\u001b[0;31mTypeError\u001b[0m                                 Traceback (most recent call last)",
      "\u001b[0;32m<ipython-input-17-3d9cf97cec50>\u001b[0m in \u001b[0;36m<module>\u001b[0;34m()\u001b[0m\n\u001b[1;32m     53\u001b[0m \u001b[0;32mif\u001b[0m \u001b[0m__name__\u001b[0m \u001b[0;34m==\u001b[0m \u001b[0;34m'__main__'\u001b[0m\u001b[0;34m:\u001b[0m\u001b[0;34m\u001b[0m\u001b[0m\n\u001b[1;32m     54\u001b[0m     \u001b[0mcrawl\u001b[0m \u001b[0;34m=\u001b[0m \u001b[0mcrawl_document\u001b[0m\u001b[0;34m(\u001b[0m\u001b[0;34m)\u001b[0m\u001b[0;34m\u001b[0m\u001b[0m\n\u001b[0;32m---> 55\u001b[0;31m     \u001b[0mcrawl\u001b[0m\u001b[0;34m.\u001b[0m\u001b[0mvisit_links\u001b[0m\u001b[0;34m(\u001b[0m\u001b[0;34m'https://www.macmillan.org.uk'\u001b[0m\u001b[0;34m,\u001b[0m \u001b[0;34m'macmillan.org.uk'\u001b[0m\u001b[0;34m)\u001b[0m\u001b[0;34m\u001b[0m\u001b[0m\n\u001b[0m\u001b[1;32m     56\u001b[0m     \u001b[0;32mprint\u001b[0m \u001b[0mfrontier\u001b[0m\u001b[0;34m\u001b[0m\u001b[0m\n",
      "\u001b[0;32m<ipython-input-17-3d9cf97cec50>\u001b[0m in \u001b[0;36mvisit_links\u001b[0;34m(self, url, domain)\u001b[0m\n\u001b[1;32m     24\u001b[0m                 \u001b[0mself\u001b[0m\u001b[0;34m.\u001b[0m\u001b[0madd_to_frontier\u001b[0m\u001b[0;34m(\u001b[0m\u001b[0mlink\u001b[0m\u001b[0;34m,\u001b[0m\u001b[0mfrontier\u001b[0m\u001b[0;34m)\u001b[0m\u001b[0;34m\u001b[0m\u001b[0m\n\u001b[1;32m     25\u001b[0m \u001b[0;34m\u001b[0m\u001b[0m\n\u001b[0;32m---> 26\u001b[0;31m         \u001b[0;32mreturn\u001b[0m \u001b[0mself\u001b[0m\u001b[0;34m.\u001b[0m\u001b[0mvisit_links\u001b[0m\u001b[0;34m(\u001b[0m\u001b[0mlink\u001b[0m\u001b[0;34m,\u001b[0m \u001b[0mdomain\u001b[0m\u001b[0;34m)\u001b[0m\u001b[0;34m\u001b[0m\u001b[0m\n\u001b[0m\u001b[1;32m     27\u001b[0m \u001b[0;34m\u001b[0m\u001b[0m\n\u001b[1;32m     28\u001b[0m     \u001b[0;32mdef\u001b[0m \u001b[0madd_to_frontier\u001b[0m\u001b[0;34m(\u001b[0m\u001b[0mself\u001b[0m\u001b[0;34m,\u001b[0m \u001b[0murl\u001b[0m\u001b[0;34m,\u001b[0m \u001b[0mfrontier_list\u001b[0m\u001b[0;34m)\u001b[0m\u001b[0;34m:\u001b[0m\u001b[0;34m\u001b[0m\u001b[0m\n",
      "\u001b[0;32m<ipython-input-17-3d9cf97cec50>\u001b[0m in \u001b[0;36mvisit_links\u001b[0;34m(self, url, domain)\u001b[0m\n\u001b[1;32m     13\u001b[0m \u001b[0;34m\u001b[0m\u001b[0m\n\u001b[1;32m     14\u001b[0m         \u001b[0;31m# read html page and extract text\u001b[0m\u001b[0;34m\u001b[0m\u001b[0;34m\u001b[0m\u001b[0m\n\u001b[0;32m---> 15\u001b[0;31m         \u001b[0mresponse\u001b[0m \u001b[0;34m=\u001b[0m \u001b[0murllib\u001b[0m\u001b[0;34m.\u001b[0m\u001b[0murlopen\u001b[0m\u001b[0;34m(\u001b[0m\u001b[0murl\u001b[0m\u001b[0;34m)\u001b[0m\u001b[0;34m.\u001b[0m\u001b[0mread\u001b[0m\u001b[0;34m(\u001b[0m\u001b[0;34m)\u001b[0m\u001b[0;34m\u001b[0m\u001b[0m\n\u001b[0m\u001b[1;32m     16\u001b[0m         \u001b[0msoup\u001b[0m \u001b[0;34m=\u001b[0m \u001b[0mBeautifulSoup\u001b[0m\u001b[0;34m(\u001b[0m\u001b[0mresponse\u001b[0m\u001b[0;34m,\u001b[0m \u001b[0;34m\"lxml\"\u001b[0m\u001b[0;34m)\u001b[0m\u001b[0;34m\u001b[0m\u001b[0m\n\u001b[1;32m     17\u001b[0m         \u001b[0mself\u001b[0m\u001b[0;34m.\u001b[0m\u001b[0mstore_text\u001b[0m\u001b[0;34m(\u001b[0m\u001b[0murl\u001b[0m\u001b[0;34m,\u001b[0m \u001b[0msoup\u001b[0m\u001b[0;34m)\u001b[0m\u001b[0;34m\u001b[0m\u001b[0m\n",
      "\u001b[0;32m/Applications/anaconda/lib/python2.7/urllib.pyc\u001b[0m in \u001b[0;36murlopen\u001b[0;34m(url, data, proxies, context)\u001b[0m\n\u001b[1;32m     85\u001b[0m         \u001b[0mopener\u001b[0m \u001b[0;34m=\u001b[0m \u001b[0m_urlopener\u001b[0m\u001b[0;34m\u001b[0m\u001b[0m\n\u001b[1;32m     86\u001b[0m     \u001b[0;32mif\u001b[0m \u001b[0mdata\u001b[0m \u001b[0;32mis\u001b[0m \u001b[0mNone\u001b[0m\u001b[0;34m:\u001b[0m\u001b[0;34m\u001b[0m\u001b[0m\n\u001b[0;32m---> 87\u001b[0;31m         \u001b[0;32mreturn\u001b[0m \u001b[0mopener\u001b[0m\u001b[0;34m.\u001b[0m\u001b[0mopen\u001b[0m\u001b[0;34m(\u001b[0m\u001b[0murl\u001b[0m\u001b[0;34m)\u001b[0m\u001b[0;34m\u001b[0m\u001b[0m\n\u001b[0m\u001b[1;32m     88\u001b[0m     \u001b[0;32melse\u001b[0m\u001b[0;34m:\u001b[0m\u001b[0;34m\u001b[0m\u001b[0m\n\u001b[1;32m     89\u001b[0m         \u001b[0;32mreturn\u001b[0m \u001b[0mopener\u001b[0m\u001b[0;34m.\u001b[0m\u001b[0mopen\u001b[0m\u001b[0;34m(\u001b[0m\u001b[0murl\u001b[0m\u001b[0;34m,\u001b[0m \u001b[0mdata\u001b[0m\u001b[0;34m)\u001b[0m\u001b[0;34m\u001b[0m\u001b[0m\n",
      "\u001b[0;32m/Applications/anaconda/lib/python2.7/urllib.pyc\u001b[0m in \u001b[0;36mopen\u001b[0;34m(self, fullurl, data)\u001b[0m\n\u001b[1;32m    183\u001b[0m     \u001b[0;32mdef\u001b[0m \u001b[0mopen\u001b[0m\u001b[0;34m(\u001b[0m\u001b[0mself\u001b[0m\u001b[0;34m,\u001b[0m \u001b[0mfullurl\u001b[0m\u001b[0;34m,\u001b[0m \u001b[0mdata\u001b[0m\u001b[0;34m=\u001b[0m\u001b[0mNone\u001b[0m\u001b[0;34m)\u001b[0m\u001b[0;34m:\u001b[0m\u001b[0;34m\u001b[0m\u001b[0m\n\u001b[1;32m    184\u001b[0m         \u001b[0;34m\"\"\"Use URLopener().open(file) instead of open(file, 'r').\"\"\"\u001b[0m\u001b[0;34m\u001b[0m\u001b[0m\n\u001b[0;32m--> 185\u001b[0;31m         \u001b[0mfullurl\u001b[0m \u001b[0;34m=\u001b[0m \u001b[0munwrap\u001b[0m\u001b[0;34m(\u001b[0m\u001b[0mtoBytes\u001b[0m\u001b[0;34m(\u001b[0m\u001b[0mfullurl\u001b[0m\u001b[0;34m)\u001b[0m\u001b[0;34m)\u001b[0m\u001b[0;34m\u001b[0m\u001b[0m\n\u001b[0m\u001b[1;32m    186\u001b[0m         \u001b[0;31m# percent encode url, fixing lame server errors for e.g, like space\u001b[0m\u001b[0;34m\u001b[0m\u001b[0;34m\u001b[0m\u001b[0m\n\u001b[1;32m    187\u001b[0m         \u001b[0;31m# within url paths.\u001b[0m\u001b[0;34m\u001b[0m\u001b[0;34m\u001b[0m\u001b[0m\n",
      "\u001b[0;32m/Applications/anaconda/lib/python2.7/urllib.pyc\u001b[0m in \u001b[0;36munwrap\u001b[0;34m(url)\u001b[0m\n\u001b[1;32m   1073\u001b[0m \u001b[0;32mdef\u001b[0m \u001b[0munwrap\u001b[0m\u001b[0;34m(\u001b[0m\u001b[0murl\u001b[0m\u001b[0;34m)\u001b[0m\u001b[0;34m:\u001b[0m\u001b[0;34m\u001b[0m\u001b[0m\n\u001b[1;32m   1074\u001b[0m     \u001b[0;34m\"\"\"unwrap('<URL:type://host/path>') --> 'type://host/path'.\"\"\"\u001b[0m\u001b[0;34m\u001b[0m\u001b[0m\n\u001b[0;32m-> 1075\u001b[0;31m     \u001b[0murl\u001b[0m \u001b[0;34m=\u001b[0m \u001b[0murl\u001b[0m\u001b[0;34m.\u001b[0m\u001b[0mstrip\u001b[0m\u001b[0;34m(\u001b[0m\u001b[0;34m)\u001b[0m\u001b[0;34m\u001b[0m\u001b[0m\n\u001b[0m\u001b[1;32m   1076\u001b[0m     \u001b[0;32mif\u001b[0m \u001b[0murl\u001b[0m\u001b[0;34m[\u001b[0m\u001b[0;34m:\u001b[0m\u001b[0;36m1\u001b[0m\u001b[0;34m]\u001b[0m \u001b[0;34m==\u001b[0m \u001b[0;34m'<'\u001b[0m \u001b[0;32mand\u001b[0m \u001b[0murl\u001b[0m\u001b[0;34m[\u001b[0m\u001b[0;34m-\u001b[0m\u001b[0;36m1\u001b[0m\u001b[0;34m:\u001b[0m\u001b[0;34m]\u001b[0m \u001b[0;34m==\u001b[0m \u001b[0;34m'>'\u001b[0m\u001b[0;34m:\u001b[0m\u001b[0;34m\u001b[0m\u001b[0m\n\u001b[1;32m   1077\u001b[0m         \u001b[0murl\u001b[0m \u001b[0;34m=\u001b[0m \u001b[0murl\u001b[0m\u001b[0;34m[\u001b[0m\u001b[0;36m1\u001b[0m\u001b[0;34m:\u001b[0m\u001b[0;34m-\u001b[0m\u001b[0;36m1\u001b[0m\u001b[0;34m]\u001b[0m\u001b[0;34m.\u001b[0m\u001b[0mstrip\u001b[0m\u001b[0;34m(\u001b[0m\u001b[0;34m)\u001b[0m\u001b[0;34m\u001b[0m\u001b[0m\n",
      "\u001b[0;31mTypeError\u001b[0m: 'NoneType' object is not callable"
     ]
    }
   ],
   "source": [
    "from bs4 import BeautifulSoup, SoupStrainer\n",
    "import urllib\n",
    "import json\n",
    "\n",
    "class crawl_document:\n",
    "    \n",
    "    def visit_links(self, url, domain):\n",
    "        \n",
    "        # double-check BF/DF is respected\n",
    "        # double-check all links are saved from page before each link is visited\n",
    "        \n",
    "        frontier = []\n",
    "        \n",
    "        # read html page and extract text\n",
    "        response = urllib.urlopen(url).read()\n",
    "        soup = BeautifulSoup(response, \"lxml\")\n",
    "        self.store_text(url, soup)\n",
    "\n",
    "        \n",
    "        # find links with html parser\n",
    "        for link in (BeautifulSoup(response, parse_only=SoupStrainer('a', href=True))).find_all('a'):\n",
    "            # if check domain is correct + absolute/relative url path\n",
    "            if self.is_in_frontier(link, frontier) == False:\n",
    "                self.add_to_frontier(link,frontier)\n",
    "                \n",
    "        return self.visit_links(link, domain)\n",
    "\n",
    "    def add_to_frontier(self, url, frontier_list):\n",
    "        frontier_list.append(url)\n",
    "        \n",
    "        return frontier_list\n",
    "    \n",
    "    def is_in_frontier(self, url, frontier_list):\n",
    "        boolean = False\n",
    "        if url in frontier_list:\n",
    "            boolean = True\n",
    "        return boolean\n",
    "\n",
    "    def store_text(self, url, soup):\n",
    "        mydict = {}\n",
    "        text = soup.get_text()\n",
    "        mydict[url] = text\n",
    "        \n",
    "        return mydict\n",
    "        \n",
    "    def write_file(self, mydict):\n",
    "        with open('crawler_dict.csv', 'wb') as csv_file:\n",
    "            writer = csv.writer(csv_file)\n",
    "            for key, value in mydict.items():\n",
    "                writer.writerow([key, value])\n",
    "\n",
    "\n",
    "if __name__ == '__main__':\n",
    "    crawl = crawl_document()\n",
    "    crawl.visit_links('https://www.macmillan.org.uk', 'macmillan.org.uk')\n",
    "    print frontier"
   ]
  },
  {
   "cell_type": "code",
   "execution_count": 60,
   "metadata": {
    "collapsed": false
   },
   "outputs": [
    {
     "name": "stdout",
     "output_type": "stream",
     "text": [
      "{'https://www.macmillan.org.uk': u' \\n\\n Home - Macmillan Cancer Support \\n\\n\\n\\n\\n\\n\\n\\n\\n\\n\\n\\n\\n\\n\\n\\n\\n\\n\\n\\n\\n\\r\\n    var _vwo_code = (function () {\\r\\n        var account_id = 62670,\\r\\n        settings_tolerance = 2000,\\r\\n        library_tolerance = 2500,\\r\\n        use_existing_jquery = false,\\r\\n        // DO NOT EDIT BELOW THIS LINE\\r\\n        f = false, d = document; return { use_existing_jquery: function () { return use_existing_jquery; }, library_tolerance: function () { return library_tolerance; }, finish: function () { if (!f) { f = true; var a = d.getElementById(\\'_vis_opt_path_hides\\'); if (a) a.parentNode.removeChild(a); } }, finished: function () { return f; }, load: function (a) { var b = d.createElement(\\'script\\'); b.src = a; b.type = \\'text/javascript\\'; b.innerText; b.onerror = function () { _vwo_code.finish(); }; d.getElementsByTagName(\\'head\\')[0].appendChild(b); }, init: function () { settings_timer = setTimeout(\\'_vwo_code.finish()\\', settings_tolerance); this.load(\\'//dev.visualwebsiteoptimizer.com/j.php?a=\\' + account_id + \\'&u=\\' + encodeURIComponent(d.URL) + \\'&r=\\' + Math.random()); var a = d.createElement(\\'style\\'), b = \\'body{opacity:0 !important;filter:alpha(opacity=0) !important;background:none !important;}\\', h = d.getElementsByTagName(\\'head\\')[0]; a.setAttribute(\\'id\\', \\'_vis_opt_path_hides\\'); a.setAttribute(\\'type\\', \\'text/css\\'); if (a.styleSheet) a.styleSheet.cssText = b; else a.appendChild(d.createTextNode(b)); h.appendChild(a); return settings_timer; } };\\r\\n    }()); _vwo_settings_timer = _vwo_code.init();\\r\\n\\n\\n\\n\\n\\n\\n(function(w,d,s,l,i){w[l]=w[l]||[];w[l].push({\\'gtm.start\\':\\r\\nnew Date().getTime(),event:\\'gtm.js\\'});var f=d.getElementsByTagName(s)[0],\\r\\nj=d.createElement(s),dl=l!=\\'dataLayer\\'?\\'&l=\\'+l:\\'\\';j.async=true;j.src=\\r\\n\\'//www.googletagmanager.com/gtm.js?id=\\'+i+dl;f.parentNode.insertBefore(j,f);\\r\\n})(window, document, \\'script\\', \\'dataLayer\\', \\'GTM-FRL4\\');\\r\\n\\n\\n\\n\\n\\n\\n\\n\\n\\n\\n\\n\\n\\n\\nMenu\\n\\n\\n\\n\\nSearch\\n\\n\\n\\n\\nMy\\n\\n\\n\\n\\n\\n\\n\\n\\n\\n\\nHome\\nInformation and support\\nGet involved\\nIn your area \\nAbout us\\nOnline community\\nDonate\\n\\n\\n\\n\\nSearch\\n\\n\\nGo\\n\\n\\n\\n\\n\\n\\r\\n            My Macmillan\\r\\n        \\n\\n\\n\\r\\n                    Login\\r\\n                \\n\\n\\n\\r\\n                    Join now\\r\\n                \\n\\n\\n\\n\\n\\r\\n                    My saved pages\\r\\n                \\n\\n\\n\\n\\n\\n\\n\\n\\n\\n\\nHomepage_SmartPhone_Heading_H1\\n\\n\\n\\n\\n\\n\\n\\n\\'Macmillan\\'s information was completely invaluable for us.\\'\\n\\n\\n\\n\\nRead Amrik\\'s story\\n\\n\\n\\nWhether you or someone you know has cancer, we have the information and support you need.\\n\\n\\n\\n\\n\\n\\n\\nHow can we help you today?\\n\\n\\nI\\'ve finished treatment\\n\\n\\nI have just been diagnosed with cancer\\n\\n\\nSomeone I know has cancer\\n\\n\\nI\\'m supporting a loved one with cancer\\n\\n\\n\\n\\n\\n\\n\\n\\n\\n\\nIn your area\\n\\n \\n\\n\\nPlease enter a location\\n\\n\\n\\nLocate me\\n\\n\\nWe couldn\\u2019t find you! Please enter a location.\\n\\n\\r\\n                               Go\\r\\n                            \\n\\n\\n \\n\\n\\n\\n\\n\\n\\nGet involved\\n\\n\\n\\n\\n\\n\\n\\'I was taking control of the situation and it felt really good.\\'\\n\\n\\n\\n\\nRead Sara\\'s story\\n\\n\\n\\nJoin our team and help us make sure no one faces cancer alone.\\nMake a donation\\n\\nFundraise\\nVolunteer with us\\nCampaign\\n\\n\\n\\n\\n\\n\\n\\nNeed to talk?\\n\\n0808 808 00 00\\n\\n\\nCall us free*\\n\\nMonday - Friday, 9am - 8pm\\n\\n\\n\\n\\nTop\\n\\n\\n\\n\\n\\n\\n\\n\\n\\nHome\\nInformation and support\\nGet involved\\nIn your area \\nAbout us\\nOnline community\\nDonate\\n\\n\\n\\n\\nFollow us\\n\\nLike us on Facebook\\nFollow us on Twitter\\nWatch us on Youtube\\nFollow us on Pinterest\\n\\n\\n\\n\\nAbout this site\\n\\nAbout our website\\nAccessibility\\nPrivacy policy\\nTerms and conditions\\nHow we use cookies\\nContact Us\\n\\n\\n\\nMacmillan sites\\n\\nMacmillan \\nbe.Macmillan\\nCommunity\\nMacmillan Shop\\nLearn Zone\\nCareers\\n\\n\\n\\n\\xa9 Macmillan Cancer Support 2016\\n\\n\\n\\n\\n\\n\\n    <ul>\\n        <li><a href=\"<%=convertedSlug%>\" class=\"<%if(isActive){%> active<%}%>\"><span><%=name%> in general</span></a></li>\\n        <% var _counter = itemsPerColumn - 1;\\n        _.each(subtypes,function(item) { %>\\n\\n        <li><a href=\"<%=item.convertedSlug%>\" data-id=\"<%=item.id%>\" data-hassubtypes=\"<% if (item.subtypes.length > 0) { %>true<% } else {%>false<% } %>\" class=\"js-sub-lnk<%if(item.isActive){%> active<%}%>\"><span><%=item.name%></span></a></li>\\n        <%  _counter--;\\n        if (_counter < 1) {\\n        _counter = itemsPerColumn;\\n        %>\\n    </ul>\\n    <ul>\\n        <%\\n        }\\n        %>\\n        <% }); %>\\n    </ul>\\n\\n\\n    <p>Types of <%=name%>:</p>\\n\\n\\n\\n    <div class=\"result-list-view <% if (results.length == 0) { %>no-results<% } %>\">\\n        <div class=\"result-list\">\\n\\n            <% if (spellSuggest !== \\'\\' && spellSuggest.toLowerCase() != inputQuery.toLowerCase() && childNodes == 0 && parentNodes == 0 && grandChildNodes == 0 && synonymNodes == 0) { %>\\n            <p>Did you mean:</p>\\n            <p><a href=\"\" class=\"js-spell-suggest-lnk cts-spell-suggest\"><%=spellSuggest%></a></p>\\n            <% } %>\\n\\n            <% if (results.length !== 0) { \\n            if (parentNodes > 0) { %>\\n            <p>Top matches</p>\\n            <ul>\\n                <% _.each(results,function(item) { %>\\n                <% if (item.depthLevel == 1 && !item.isSynonymMatch) { %>\\n                <li><a href=\"<%=item.slug%>\"><span><%=item.nameHtml%></span></a></li>\\n                <% }}); %>\\n            </ul>\\n            <% } %>\\n\\n            <% if (childNodes > 0 || grandChildNodes > 0) { %>\\n            <p>More cancer types</p>\\n            <ul>\\n                <% _.each(results,function(item) { %>\\n                <% if (item.depthLevel > 1 && !item.isSynonymMatch) { %>\\n                <li><a href=\"<%=item.slug%>\"><span><%=item.nameHtml%></span></a></li>\\n                <% }}); %>\\n            </ul>\\n            <% } %>\\n\\n            <% if (synonymNodes > 0) { %>\\n            <p>See also</p>\\n            <ul>\\n                <% _.each(results,function(item) { %>\\n                <% if (item.isSynonymMatch) { %>\\n                <li><a href=\"<%=item.slug%>\"><span><%=item.nameHtml%> (<%=item.synonyms%>)</span></a></li>\\n                <% }}); %>\\n            </ul>\\n            <% } %>\\n\\n            <% } else { \\n            if (spellSuggest == \\'\\') {%>\\n            <p>Sorry, we don\\'t have any matches for that.</p>\\n            <% }} %>\\n        </div>\\n    </div>\\n    <div class=\"not-found\">\\n        <h2>Not found?</h2>\\n        <p><a href=\"/information-and-support/cancer-type-selector.html\" class=\"all-types\"><span>Browse all cancer types</span></a></p>\\n        <% if (query != \\'\\') { %>\\n        <p class=\"search-entry\">Search the whole site for <a href=\"//www.macmillan.org.uk/Search/SearchResults.aspx?query=<%=inputQuery%>\"><span><%=inputQuery%></span></a></p>\\n        <% } %>\\n        <p>\\n            If you&#39;re struggling to find what you need, call our Support line on\\n            <span class=\"phone\">0800 808 0000</span>\\n            (Monday to Friday, 9am-8pm)\\n        </p>\\n        <a href=\"http://www.macmillan.org.uk/AboutUs/ContactUs/ContactUs.aspx\" class=\"contact\">\\n            <span>More ways to contact us</span>\\n        </a>\\n    </div>\\n\\n\\r\\n<div class=\"a-z-search\">\\r\\n<% if (results.length > 0) {%>\\r\\n  <h3><%=results.length%> result<%if (results.length > 1) {%>s<%}%></h3>\\r\\n  <% _.each(results, function(item) { %> \\r\\n    <article class=\"ci-list-item\">\\r\\n        <h3>\\r\\n          <%if (item.url) { %>\\r\\n              <a href=\"<%=item.url%>\"><%=item.highlightedName%></a>\\r\\n            <% } else { %>\\r\\n              <span><%=item.highlightedName%></span>\\r\\n          <% } %>\\r\\n\\r\\n          <%if (item.matchType == \\'synonym\\') {%>\\r\\n            <span class=\"ci-synonym-match\">(also known as <%=item.highlightedMatchedSynonym%>)</span>\\r\\n          <% } %>\\r\\n        </h3>\\r\\n      <aside class=\"ci-summary\"><%=item.summary%></aside>\\r\\n    </article>\\r\\n <% }); %>\\r\\n<%} else {%>\\r\\n<h3>No matches</h3>\\r\\n <%}%>\\r\\n\\r\\n  <h3 class=\"cant-find-msg\">Can\\'t find what you were looking for?</h3>\\r\\n  <p class=\"cid-item\">\\r\\n    <a href=\"\" class=\"js-clear-item-search browse-a-z\">Browse A-Z list<span></span></a>\\r\\n  </p>\\r\\n</div>\\r\\n\\n\\n\\n\\n\\n\\n\\n\\n\\n\\n\\n\\n\\n\\n\\n\\n\\n'}\n",
      "['https://www.macmillan.org.uk/', 'https://www.macmillan.org.uk', 'https://www.macmillan.org.uk', 'https://www.macmillan.org.uk', 'https://www.macmillan.org.uk/information-and-support/index.html', 'https://www.macmillan.org.uk/get-involved/all-ways-to-help.html', 'https://www.macmillan.org.uk/in-your-area/choose-location.html', 'https://www.macmillan.org.uk/about-us/index.html', 'https://www.macmillan.org.uk/donate', 'https://www.macmillan.org.uk/information-and-support/resources-and-publications/stories/amrik/amrik-getting-support.html#191171', 'https://www.macmillan.org.uk/information-and-support/audience/index.html#173383', 'https://www.macmillan.org.uk/information-and-support/audience/finished-treatment.html#162702', 'https://www.macmillan.org.uk/information-and-support/audience/just-diagnosed.html#162025', 'https://www.macmillan.org.uk/information-and-support/audience/someone-i-know-has-cancer.html#196874', 'https://www.macmillan.org.uk/information-and-support/audience/looking-after-someone-with-cancer.html#162026', 'https://www.macmillan.org.uk/in-your-area/choose-location.html', 'https://www.macmillan.org.uk', 'https://www.macmillan.org.uk/information-and-support/resources-and-publications/stories/sara/hair-fundraising.html#246339', 'https://www.macmillan.org.uk/donate', 'tel:0808 808 00 00', 'tel:0808 808 00 00', 'https://www.macmillan.org.uk', 'https://www.macmillan.org.uk/information-and-support/index.html', 'https://www.macmillan.org.uk/get-involved/all-ways-to-help.html', 'https://www.macmillan.org.uk/in-your-area/choose-location.html', 'https://www.macmillan.org.uk/about-us/index.html', 'https://www.macmillan.org.uk/donate']\n"
     ]
    }
   ],
   "source": [
    "from urlparse import urljoin\n",
    "import urlparse\n",
    "\n",
    "# def visit_link(self, url):\n",
    "    \n",
    "# store map\n",
    "url = 'https://www.macmillan.org.uk'\n",
    "response = urllib.urlopen(url).read()\n",
    "soup1 = BeautifulSoup(response, \"lxml\")\n",
    "mydict = {}\n",
    "text = soup1.get_text()\n",
    "mydict[url] = text\n",
    "print mydict\n",
    "\n",
    "# extract links and save them\n",
    "soup2 = BeautifulSoup(response, parse_only=SoupStrainer('a', href=True))\n",
    "links = soup2.find_all('a')\n",
    "links = [s.get('href') for s in links]\n",
    "links = [s for s in links if (s.startswith(\"https://\") or s.startswith(\"http://\"))] and [urljoin(url, s) for s in links if (s.startswith(\"https://\") or s.startswith(\"http://\")) is False]\n",
    "print links\n",
    "# def store_map(url, soup):\n",
    "    \n",
    "#     mydict = {}\n",
    "#     text = soup.get_text()\n",
    "#     mydict[url] = text\n",
    "    \n",
    "# def extract_links(soup, url):\n",
    "    \n",
    "#     links = soup.find_all('a')\n",
    "#     links = [s.get('href') for s in links]\n",
    "# links = [s for s in links]\n",
    "#     links = [s for s in links if (s.startswith(\"https://\") or s.startswith(\"http://\"))] and [urljoin(url, s) for s in links if (s.startswith(\"https://\") or s.startswith(\"http://\")) is False]\n",
    "# links = [urljoin('https://www.macmillan.org.uk', s) for s in links if (s.startswith(\"https://\") or s.startswith(\"http://\")) is False]\n",
    "# links = [if (s.startswith(\"https://\") or s.startswith(\"http://\"))]\n",
    "# links = [s[:-1] if s.endswith('/') else s for s in links]\n",
    "# for ext in self.illegal:\n",
    "#     links = [s for s in links if ext not in s]\n",
    "# print links\n",
    "\n",
    "# for link in soup.find_all('a'):\n",
    "#     if link.startswith(\"https://\") is False:\n",
    "#         urljoin('https://www.macmillan.org.uk', link)\n",
    "#         print link.get('href')\n",
    "    # check regex\n",
    "    # isoler les liens uniquement \n",
    "    \n",
    "# if __name__ == '__main__':\n",
    "#     visit_link('https://www.macmillan.org.uk')"
   ]
  },
  {
   "cell_type": "code",
   "execution_count": null,
   "metadata": {
    "collapsed": false
   },
   "outputs": [],
   "source": []
  },
  {
   "cell_type": "code",
   "execution_count": null,
   "metadata": {
    "collapsed": false
   },
   "outputs": [],
   "source": []
  },
  {
   "cell_type": "code",
   "execution_count": null,
   "metadata": {
    "collapsed": true
   },
   "outputs": [],
   "source": []
  }
 ],
 "metadata": {
  "kernelspec": {
   "display_name": "Python 2",
   "language": "python",
   "name": "python2"
  },
  "language_info": {
   "codemirror_mode": {
    "name": "ipython",
    "version": 2
   },
   "file_extension": ".py",
   "mimetype": "text/x-python",
   "name": "python",
   "nbconvert_exporter": "python",
   "pygments_lexer": "ipython2",
   "version": "2.7.11"
  }
 },
 "nbformat": 4,
 "nbformat_minor": 0
}
