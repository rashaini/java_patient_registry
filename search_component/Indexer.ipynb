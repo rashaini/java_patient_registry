{
 "cells": [
  {
   "cell_type": "code",
   "execution_count": 1,
   "metadata": {
    "collapsed": false
   },
   "outputs": [],
   "source": [
    "import logging\n",
    "logging.basicConfig(format='%(asctime)s : %(levelname)s : %(message)s', level=logging.INFO)"
   ]
  },
  {
   "cell_type": "code",
   "execution_count": 6,
   "metadata": {
    "collapsed": false
   },
   "outputs": [],
   "source": [
    "from gensim import corpora\n",
    "from nltk.corpus import stopwords\n",
    "from nltk.stem.porter import PorterStemmer\n",
    "import csv\n",
    "\n",
    "def index_document(filepath):\n",
    "\n",
    "    posting_list = open(filepath)\n",
    "\n",
    "    # remove stop words\n",
    "    global stopwords\n",
    "    stopwords = set(stopwords.words('english'))\n",
    "    p = PorterStemmer()\n",
    "\n",
    "    # stem words and tokenize posting_list\n",
    "    # example tutorial gensim library\n",
    "    texts = [[p.stem(word) for word in document.lower().split()\n",
    "         if word not in stopwords] for document in posting_list]\n",
    "\n",
    "    # convert document into bag-of-word (term:frequency)\n",
    "    dictionary = corpora.Dictionary(texts)\n",
    "    dictionary.save('myDict.dict')\n",
    "\n",
    "    # convert document to vector (term_index:frequency)\n",
    "    corpus = [dictionary.doc2bow(text) for t  in texts]\n",
    "\n",
    "    # write posting_list to file\n",
    "    with open('postings_list', 'w') as f:\n",
    "        for doc in corpus:\n",
    "            f.write(str(doc) + '\\n')\n",
    "            \n",
    "    # create inverted index\n",
    "    # write inverted index to csv\n",
    "\n",
    "\n",
    "# if __name__ == '__main__':\n",
    "#     index_document('/Users/rimahsaini/source/macmillan_spider_v1/results_final.json')"
   ]
  },
  {
   "cell_type": "code",
   "execution_count": null,
   "metadata": {
    "collapsed": false
   },
   "outputs": [],
   "source": []
  },
  {
   "cell_type": "code",
   "execution_count": null,
   "metadata": {
    "collapsed": true
   },
   "outputs": [],
   "source": []
  }
 ],
 "metadata": {
  "kernelspec": {
   "display_name": "Python 2",
   "language": "python",
   "name": "python2"
  },
  "language_info": {
   "codemirror_mode": {
    "name": "ipython",
    "version": 2
   },
   "file_extension": ".py",
   "mimetype": "text/x-python",
   "name": "python",
   "nbconvert_exporter": "python",
   "pygments_lexer": "ipython2",
   "version": "2.7.11"
  }
 },
 "nbformat": 4,
 "nbformat_minor": 0
}
