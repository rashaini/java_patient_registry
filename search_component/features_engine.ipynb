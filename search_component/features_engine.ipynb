{
 "cells": [
  {
   "cell_type": "code",
   "execution_count": 2,
   "metadata": {
    "collapsed": false
   },
   "outputs": [
    {
     "name": "stdout",
     "output_type": "stream",
     "text": [
      "{'a': ['www.asameena.co', 'www.bing.com', 'www.google.com'], 'cute': ['www.asameena.co'], 'search': ['www.google.com'], 'this': ['www.asameena.co'], 'is': ['www.asameena.co'], 'engine': ['www.google.com'], 'magazine': ['www.asameena.co'], 'another': ['www.bing.com'], 'query': ['www.bing.com']}\n"
     ]
    }
   ],
   "source": [
    "mymap = {'www.asameena.co': 'this is a cute cute magazine', 'www.google.com': 'a search engine', 'www.bing.com': 'another search query'}\n",
    "\n",
    "keys = []\n",
    "\n",
    "inverted = {}\n",
    "\n",
    "for key, value in mymap.iteritems():\n",
    "    value = set(value.split())\n",
    "    for word in value:\n",
    "        keys.append(word)\n",
    "\n",
    "for k in keys:\n",
    "    for key, value in mymap.iteritems():\n",
    "        if k in value:\n",
    "            if any(k is term for term, urls in inverted.iteritems()):\n",
    "                if key not in inverted[k]:\n",
    "                    inverted[k].append(key) \n",
    "            else:\n",
    "                inverted[k] = [key]\n",
    "\n",
    "print inverted"
   ]
  },
  {
   "cell_type": "code",
   "execution_count": 3,
   "metadata": {
    "collapsed": true
   },
   "outputs": [],
   "source": [
    "import logging\n",
    "logging.basicConfig(format='%(asctime)s : %(levelname)s : %(message)s', level=logging.INFO)"
   ]
  },
  {
   "cell_type": "code",
   "execution_count": 11,
   "metadata": {
    "collapsed": false
   },
   "outputs": [
    {
     "name": "stdout",
     "output_type": "stream",
     "text": [
      "{u'engine': 7, u'cute': 1, u'search': 5, u'this': 0, u'is': 2, u'magazine': 3, u'another': 6, u'query': 4}\n",
      "[(0, 0.3779644730092272), (1, 0.7559289460184544), (2, 0.3779644730092272), (3, 0.3779644730092272)]\n",
      "[(4, 0.6841916012796777), (5, 0.2525147628886298), (6, 0.6841916012796777)]\n",
      "[(5, 0.34624155305796134), (7, 0.9381453975456102)]\n"
     ]
    }
   ],
   "source": [
    "from gensim import corpora, models, similarities\n",
    "from pprint import pprint \n",
    "\n",
    "\n",
    "# 'documents' are list of texts\n",
    "documents = (value for key, value in mymap.iteritems())\n",
    "\n",
    "# remove common words and tokenize\n",
    "stoplist = set('for a of the and to in'.split())\n",
    "texts = [[word for word in document.lower().split() if word not in stoplist] \n",
    "         for document in documents]\n",
    "\n",
    "# assign unique ids to unique tokens from texts\n",
    "dictionary = corpora.Dictionary(texts)\n",
    "# dictionary.save('/example.dict')  # store the dictionary, for future reference\n",
    "# print dictionary\n",
    "print(dictionary.token2id)\n",
    "\n",
    "# list of terms and their frequencies\n",
    "corpus = [dictionary.doc2bow(text) for text in texts]\n",
    "# corpora.MmCorpus.serialize('/example.mm', corpus)  # store to disk, for later use\n",
    "# print(corpus)\n",
    "\n",
    "# tfidf scores\n",
    "tfidf = models.TfidfModel(corpus)\n",
    "tfidf_corpus = (tfidf[corpus])\n",
    "for doc in tfidf_corpus:\n",
    "    print(doc)\n",
    "\n",
    "# #  latent semantic indexing scores, highest similarity with topics\n",
    "# lsi = models.LsiModel(tfidf_corpus, id2word=dictionary, num_topics=2)\n",
    "# corpus_lsi = lsi[tfidf_corpus]\n",
    "# # lsi.print_topics(2)\n",
    "# for doc in corpus_lsi:\n",
    "#     print(doc)"
   ]
  },
  {
   "cell_type": "code",
   "execution_count": null,
   "metadata": {
    "collapsed": true
   },
   "outputs": [],
   "source": []
  }
 ],
 "metadata": {
  "kernelspec": {
   "display_name": "Python 2",
   "language": "python",
   "name": "python2"
  },
  "language_info": {
   "codemirror_mode": {
    "name": "ipython",
    "version": 2
   },
   "file_extension": ".py",
   "mimetype": "text/x-python",
   "name": "python",
   "nbconvert_exporter": "python",
   "pygments_lexer": "ipython2",
   "version": "2.7.11"
  }
 },
 "nbformat": 4,
 "nbformat_minor": 0
}
