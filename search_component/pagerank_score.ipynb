{
 "cells": [
  {
   "cell_type": "code",
   "execution_count": null,
   "metadata": {
    "collapsed": false
   },
   "outputs": [],
   "source": [
    "class pagerank:\n",
    "    \n",
    "    # matrix of links \n",
    "    \n",
    "# pageRankScore_all\n",
    "# googleRankQuery_all\n",
    "# TFIDFRankTerm_all\n",
    "# TFIDFRankTerm_url\n",
    "# TFIDFRankTerm_headline\n",
    "# TFIDFRankTerm_text\n",
    "# freqTermIn_all\n",
    "# freqTermIn_url\n",
    "# freqTermIn_headline\n",
    "# freqTermIn_text\n",
    "\n",
    "\n",
    "# pageRankScoreExpQuery_all\n",
    "# googleRankExpQuery_all\n",
    "# TFIDFRankExpQuery_all\n",
    "# TFIDFRankExpQuery_url\n",
    "# TFIDFRankExpQuery_headline\n",
    "# TFIDFRankExpQuery_text\n",
    "# ratioNbOfExpQueryTermsIn_all\n",
    "# ratioNbOfExpQueryTermsIn_url\n",
    "# ratioNbOfExpQueryTermsIn_headline\n",
    "# ratioNbOfExpQueryTermsIn_text\n",
    "# latentSemanticSimScoreExpQuery_all"
   ]
  },
  {
   "cell_type": "code",
   "execution_count": null,
   "metadata": {
    "collapsed": true
   },
   "outputs": [],
   "source": [
    "# matrix\n",
    "import numpy as np\n",
    "\n",
    "m = np.matrix\n",
    "\n",
    "print m\n",
    "\n",
    "size = len(total_urls)\n",
    "\n",
    "matrix_outbound_prob = [[2 for x in range(size)] for y in range(size)]\n",
    "matrix_outbound_prob[1][10] = 1\n",
    "matrix_outbound_prob[1][20] = 1\n",
    "matrix_outbound_prob[1][17] = 1\n",
    "matrix_outbound_prob[2][14] = 1\n",
    "matrix_outbound_prob[3][12] = 1\n",
    "matrix_outbound_prob[17][2] = 1\n",
    "matrix_outbound_prob[23][8] = 1\n",
    "matrix_outbound_prob[17][11] = 1\n",
    "matrix_outbound_prob[13][1] = 1\n",
    "matrix_outbound_prob[19][6] = 1\n",
    "\n",
    "\n",
    "matrix_bis = [[3 for x in range(size)] for y in range(size)]\n",
    "\n",
    "mm = matrix_outbound_prob*matrix_bis\n",
    "\n",
    "print mm\n",
    "# if (url is v3 for i3, v3 in enumerate(total_urls)) and (v4 in value for index, value in enumerate(links) for i4, v4 in enumerate(total_urls)):\n",
    "#     matrix[i3][i4] = 1\n",
    "\n",
    "# if ((v in key for key, value in dico.iteritems()) for i, v in enumerate(total_urls)) and ((v in value for key, value in dico.iteritems()) for ind, val in enumerate(total_urls)):\n",
    "#     matrix[i][ind] = 1\n",
    "    \n",
    "# if (v1 in v for i, v in enumerate(value) for value in value for key, value in dico.iteritems() for i1, v1 in enumerate(total_urls)) and (v2 in value for index, value in enumerate(links) for i2, v2 in enumerate(total_urls)):\n",
    "#     matrix[i1][i2] = 1\n",
    "\n",
    "\n"
   ]
  },
  {
   "cell_type": "code",
   "execution_count": null,
   "metadata": {
    "collapsed": true
   },
   "outputs": [],
   "source": [
    "# pagerank data preprocessing\n",
    "urls = []\n",
    "dico = {}\n",
    "total_urls = []\n",
    "\n",
    "# extract links from each url page in list of total links\n",
    "for i, v in enumerate(links):\n",
    "    open_page = urllib.urlopen(v).read()\n",
    "    soup_bis_1 = BeautifulSoup(open_page, \"lxml\")\n",
    "    urls = soup_bis_1.find_all('a')\n",
    "    urls = [s.get('href') for s in urls]\n",
    "    urls = [unicode(s) for s in urls]\n",
    "    urls = [s for s in urls if (s.startswith(\"https://\") or s.startswith(\"http://\"))]\n",
    "    urls = set(urls)\n",
    "    dico[v] = urls\n",
    "\n",
    "# append elements to reference list for matrix\n",
    "total_urls.append(url)\n",
    "for key, value in dico.iteritems():\n",
    "    total_urls.append(key)\n",
    "#     for i, v in enumerate(value):\n",
    "#         total_urls.append(v)"
   ]
  }
 ],
 "metadata": {
  "kernelspec": {
   "display_name": "Python 2",
   "language": "python",
   "name": "python2"
  },
  "language_info": {
   "codemirror_mode": {
    "name": "ipython",
    "version": 2
   },
   "file_extension": ".py",
   "mimetype": "text/x-python",
   "name": "python",
   "nbconvert_exporter": "python",
   "pygments_lexer": "ipython2",
   "version": "2.7.11"
  }
 },
 "nbformat": 4,
 "nbformat_minor": 0
}
